{
 "cells": [
  {
   "cell_type": "markdown",
   "metadata": {},
   "source": [
    "# Classification of Images with KNN Algorithm"
   ]
  },
  {
   "cell_type": "markdown",
   "metadata": {},
   "source": [
    "## Classification with KNN "
   ]
  },
  {
   "cell_type": "markdown",
   "metadata": {},
   "source": [
    "#### Extracting Features from Images"
   ]
  },
  {
   "cell_type": "markdown",
   "metadata": {},
   "source": [
    "In order to classify the images in the most faultless manner, different methods and filters must be applied to the images.\n",
    "In this case, images resized to **100x100 pixels** to expedite the process; **Canny edge detection and Gabor filter** are used to extract the features of images.\n",
    "Via Canny, edge structure of the images are detected with low error rate.\n",
    "Gabor filter is used to extract the texture information of the images."
   ]
  },
  {
   "cell_type": "markdown",
   "metadata": {},
   "source": [
    "#### Selecting Optimum k Value For k-Nearest-Neighbor Algorithm"
   ]
  },
  {
   "cell_type": "markdown",
   "metadata": {},
   "source": [
    "Determination of k value is the crucial point of KNN algorithm in order to classify the data properly. \n",
    "Large values of k smooth out the regional oddness of the data while small values of k may cause overfitting.\n",
    "Therefore, value of k must be chosen carefully by taking the empirical results into consideration.\n",
    "\n",
    "* To minimize the overfitting, cross validation method with 5 folds as optimum was used in the process of classification with training data.  \n",
    "* In the test case, dataset consist of %80 training data and %20 test data.\n",
    "* In the first step, training data has been tested with 6 different k values: **1, 3, 5, 7, 9, 11** (*to avoid classification errors, all values selected among odd numbers*).\n"
   ]
  },
  {
   "cell_type": "markdown",
   "metadata": {},
   "source": [
    "Training data with **300 images** has been tested.  \n",
    "Mean accuracy is **%90.61**.  \n",
    "Maximum accuracy is **%93.0**  \n",
    "k value which gives maximum accuracy: **3**.\n",
    "\n",
    "![canny_gabor_300_100x100p.png](images/canny_gabor_300_100x100p.png)"
   ]
  },
  {
   "attachments": {},
   "cell_type": "markdown",
   "metadata": {},
   "source": [
    "Test data with **300 images** has been tested.  \n",
    "Mean accuracy is **%68.05**.  \n",
    "Maximum accuracy is **%81.67**  \n",
    "k value which gives maximum accuracy: **1**.\n",
    "\n",
    "![canny_gabor_300_100x100p_%2580%2520.png](images/canny_gabor_300_100x100p_%2580%2520.png)"
   ]
  },
  {
   "cell_type": "markdown",
   "metadata": {},
   "source": [
    "## Classification with Weighted KNN "
   ]
  },
  {
   "cell_type": "markdown",
   "metadata": {},
   "source": [
    "In weighted KNN algorithm, **inverse distance weighting** method has been used to determine the importance of the points in terms of distance. According to this method, the nearest neighbors' labels have more powerful effect on classification than that of farther neighbors."
   ]
  },
  {
   "attachments": {},
   "cell_type": "markdown",
   "metadata": {},
   "source": [
    "Training data with **300 images** has been tested.  \n",
    "Mean accuracy is **%90.89**.  \n",
    "Maximum accuracy is **%93.0**  \n",
    "k value which gives maximum accuracy: **3**.\n",
    "\n",
    "![weighted_canny_gabor_300_100x100p.png](images/weighted_canny_gabor_300_100x100p.png)\n"
   ]
  },
  {
   "attachments": {},
   "cell_type": "markdown",
   "metadata": {},
   "source": [
    "Test data with **300 images** has been tested.  \n",
    "Mean accuracy is **%71.94**. \n",
    "Maximum accuracy is **%81.67**  \n",
    "k value which gives maximum accuracy: **1**.\n",
    "\n",
    "![weighted_canny_gabor_300_100x100p_%2580%2520.png](images/weighted_canny_gabor_300_100x100p_%2580%2520.png)"
   ]
  },
  {
   "cell_type": "markdown",
   "metadata": {},
   "source": [
    "#### Importance of the Quantity of Traning Data"
   ]
  },
  {
   "cell_type": "markdown",
   "metadata": {},
   "source": [
    "It is generally a good practice to use as many data as possible in addition to the quality of the data to avoid overfitting or underfitting problems in training phase. In this assignment, different sizes of training data has been used in order to understand the effects of the quantity of the data on accuracy.\n",
    "\n",
    "Algorithm has been applied on variety of differently sized test datasets: *50, 100, 300, 600*.\n",
    "\n",
    "Changes in error percentages per test dataset as below (change in the error values has been stated seperately for each k value with different color):"
   ]
  },
  {
   "attachments": {},
   "cell_type": "markdown",
   "metadata": {},
   "source": [
    "![KNN%20with%20different%20sizes%20of%20data.png](images/KNN%20with%20different%20sizes%20of%20data.png)\n",
    "\n",
    "**Overall error value has decreased as the dataset size gets large.**"
   ]
  },
  {
   "attachments": {},
   "cell_type": "markdown",
   "metadata": {},
   "source": [
    "For weighted KNN algorithm:\n",
    "\n",
    "![Weighted_KNN%20with_different_sizes_of_data.png](images/Weighted_KNN%20with_different_sizes_of_data.png)\n",
    "\n",
    "**Overall error value has decreased as the dataset size gets large.**"
   ]
  },
  {
   "cell_type": "markdown",
   "metadata": {},
   "source": [
    "## Comparison Between KNN and Weighted KNN"
   ]
  },
  {
   "attachments": {},
   "cell_type": "markdown",
   "metadata": {},
   "source": [
    "![Effect%20of%20Weighted%20KNN%20with%20k%20=%201.png](images/Effect%20of%20Weighted%20KNN%20with%20k%20=%201.png)\n",
    "\n",
    "As it can be seen above, weighted KNN algorithm has not had powerful impact overall error value for k = 1."
   ]
  },
  {
   "attachments": {},
   "cell_type": "markdown",
   "metadata": {},
   "source": [
    "![Effect%20of%20Weighted%20KNN%20with%20k%20=%2011.png](images/Effect%20of%20Weighted%20KNN%20with%20k%20=%2011.png)\n",
    "\n",
    "However, for k = 11, the fall in the error becomes visible."
   ]
  },
  {
   "cell_type": "markdown",
   "metadata": {},
   "source": [
    "With 1-KNN, points are coherently classified according to the nearest neighbor. However, as the k increases, number of neighbors that is taken into consideration enlarges the circle of neighborhood. Therefore, inside of these neighbors, the closest ones become important since **inverse distance weighting** method is used to determine the importance of these neighbors.\n",
    "**As a result, k values that generate large neighborhoods are the ones that are effected the most by weighted KNN algorithm in terms of accuracy.**"
   ]
  },
  {
   "cell_type": "markdown",
   "metadata": {},
   "source": [
    "## Error Analysis"
   ]
  },
  {
   "attachments": {},
   "cell_type": "markdown",
   "metadata": {},
   "source": [
    "* Resizing images to a smaller size results in more error due to the loss of detail/information of the image. The lesser the number of pixels,the lesser accuracy from filters.\n",
    "* Size of dataset that is used in training: Large numbers of images increase the accuracy, on the other hand, running time gets larger and larger; use of relatively small datasets throughout the analysis may caused increase in error.\n",
    "* Selection of k value: In general, error value has decreased with the increase in the k value. However, the optimum k value for these datasets is **3** with the least error which is **%93.0** for KNN.\n",
    "* Selection of filters. Canny edge detection filter by itself has given error up to **%66**. Therefore, it was not a good choice to use it to classify the images with high accuracy."
   ]
  },
  {
   "attachments": {},
   "cell_type": "markdown",
   "metadata": {},
   "source": [
    "Canny edge detection accuracy values on **300** images with mean accuracy value **33.42** using **KNN**.\n",
    "![canny_300_100x100p.png](images/canny_300_100x100p.png)"
   ]
  },
  {
   "cell_type": "markdown",
   "metadata": {},
   "source": [
    "However, Gabor filter has given more accuracy with mean accuracy value **%90.61** using **KNN**."
   ]
  },
  {
   "attachments": {},
   "cell_type": "markdown",
   "metadata": {},
   "source": [
    "Gabor filter accuracy values on **300** images with **KNN**.\n",
    "![gabor_k_300.png](images/gabor_k_300.png)"
   ]
  },
  {
   "cell_type": "markdown",
   "metadata": {},
   "source": [
    "* Despite the fact that Gabor filter was more accurate, it was time consuming filter which constituted the major part of the running time."
   ]
  }
 ],
 "metadata": {
  "kernelspec": {
   "display_name": "Python 3",
   "language": "python",
   "name": "python3"
  },
  "language_info": {
   "codemirror_mode": {
    "name": "ipython",
    "version": 3
   },
   "file_extension": ".py",
   "mimetype": "text/x-python",
   "name": "python",
   "nbconvert_exporter": "python",
   "pygments_lexer": "ipython3",
   "version": "3.8.5"
  }
 },
 "nbformat": 4,
 "nbformat_minor": 2
}
